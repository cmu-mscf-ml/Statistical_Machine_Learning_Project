{
 "cells": [
  {
   "cell_type": "code",
   "execution_count": 1,
   "metadata": {
    "ExecuteTime": {
     "end_time": "2019-04-18T21:30:05.344061Z",
     "start_time": "2019-04-18T21:29:58.540767Z"
    }
   },
   "outputs": [],
   "source": [
    "import numpy as np\n",
    "import pandas as pd\n",
    "from datetime import datetime\n",
    "param = {'path': 'F:\\\\Class - Statistical Machine Learning II\\\\project\\\\HFT\\\\'}"
   ]
  },
  {
   "cell_type": "markdown",
   "metadata": {},
   "source": [
    "## load L1 and trade data (20190404)"
   ]
  },
  {
   "cell_type": "code",
   "execution_count": 2,
   "metadata": {
    "ExecuteTime": {
     "end_time": "2019-04-18T21:30:28.260687Z",
     "start_time": "2019-04-18T21:30:05.350173Z"
    }
   },
   "outputs": [],
   "source": [
    "trade1 = pd.read_csv(param['path']+'L1Trade.20190404.csv', \n",
    "                     header=0, index_col=None)\n",
    "columns = [c.strip() for c in trade1.columns]\n",
    "columns[0] = 'time'\n",
    "trade1.columns = columns\n",
    "trade1['time'] = trade1['time'].apply(lambda x: datetime.strptime(x[:-15], '%Y%m%d-%H:%M:%S.%f'))\n",
    "trade1.insert(1, 'type', 'trade')\n",
    "trade1['symbol'] = trade1['symbol'].apply(lambda x: x.strip())"
   ]
  },
  {
   "cell_type": "code",
   "execution_count": 3,
   "metadata": {
    "ExecuteTime": {
     "end_time": "2019-04-18T21:37:47.503518Z",
     "start_time": "2019-04-18T21:30:28.265958Z"
    }
   },
   "outputs": [],
   "source": [
    "book_change1 = pd.read_csv(param['path']+'L1BookChange.20190404.csv', \n",
    "                          header=0, index_col=None)\n",
    "columns = [c.strip() for c in book_change1.columns]\n",
    "columns[0] = 'time'\n",
    "book_change1.columns = columns\n",
    "book_change1['time'] = book_change1['time'].apply(lambda x: datetime.strptime(x[:-20], '%Y%m%d-%H:%M:%S.%f'))\n",
    "book_change1.insert(1, 'type', 'bookChange')\n",
    "book_change1['symbol'] = book_change1['symbol'].apply(lambda x: x.strip())"
   ]
  },
  {
   "cell_type": "code",
   "execution_count": 4,
   "metadata": {
    "ExecuteTime": {
     "end_time": "2019-04-18T21:37:47.616423Z",
     "start_time": "2019-04-18T21:37:47.513180Z"
    }
   },
   "outputs": [],
   "source": [
    "%%capture\n",
    "print(trade1.shape)\n",
    "trade1.head(10)"
   ]
  },
  {
   "cell_type": "code",
   "execution_count": 5,
   "metadata": {
    "ExecuteTime": {
     "end_time": "2019-04-18T21:37:47.687824Z",
     "start_time": "2019-04-18T21:37:47.622573Z"
    }
   },
   "outputs": [],
   "source": [
    "%%capture\n",
    "print(book_change1.shape)\n",
    "book_change1.head(10)"
   ]
  },
  {
   "cell_type": "markdown",
   "metadata": {},
   "source": [
    "## synchronize them by time stamp, if they have same time stamp, then sort by seqnum (20190404)"
   ]
  },
  {
   "cell_type": "code",
   "execution_count": 6,
   "metadata": {
    "ExecuteTime": {
     "end_time": "2019-04-18T21:38:28.879822Z",
     "start_time": "2019-04-18T21:37:47.695455Z"
    }
   },
   "outputs": [],
   "source": [
    "dataset1 = pd.concat([trade1,book_change1], axis=0, join='outer', sort=False)\n",
    "dataset1 = dataset1.sort_values(by=['time', 'seqnum'], ascending=True)\n",
    "dataset1.index = range(len(dataset1))"
   ]
  },
  {
   "cell_type": "code",
   "execution_count": 7,
   "metadata": {
    "ExecuteTime": {
     "end_time": "2019-04-18T21:38:31.535614Z",
     "start_time": "2019-04-18T21:38:28.882895Z"
    }
   },
   "outputs": [],
   "source": [
    "%%capture\n",
    "dataset1.loc[dataset1['symbol']=='HUT']"
   ]
  },
  {
   "cell_type": "markdown",
   "metadata": {},
   "source": [
    "## save (20190404)"
   ]
  },
  {
   "cell_type": "code",
   "execution_count": 9,
   "metadata": {
    "ExecuteTime": {
     "end_time": "2019-04-18T22:14:18.257730Z",
     "start_time": "2019-04-18T21:51:05.892204Z"
    }
   },
   "outputs": [],
   "source": [
    "dataset1.to_csv(param['path']+'L1.20190404.csv')"
   ]
  },
  {
   "cell_type": "code",
   "execution_count": null,
   "metadata": {
    "ExecuteTime": {
     "end_time": "2019-04-18T21:49:35.308612Z",
     "start_time": "2019-04-18T21:49:35.222751Z"
    }
   },
   "outputs": [],
   "source": []
  },
  {
   "cell_type": "code",
   "execution_count": null,
   "metadata": {
    "ExecuteTime": {
     "end_time": "2019-04-18T20:11:54.367261Z",
     "start_time": "2019-04-18T20:11:52.404245Z"
    },
    "cell_style": "center",
    "scrolled": true
   },
   "outputs": [],
   "source": []
  },
  {
   "cell_type": "code",
   "execution_count": null,
   "metadata": {
    "ExecuteTime": {
     "end_time": "2019-04-18T20:11:41.121560Z",
     "start_time": "2019-04-18T20:11:40.968596Z"
    },
    "cell_style": "center",
    "scrolled": true
   },
   "outputs": [],
   "source": []
  },
  {
   "cell_type": "code",
   "execution_count": null,
   "metadata": {},
   "outputs": [],
   "source": []
  },
  {
   "cell_type": "code",
   "execution_count": null,
   "metadata": {},
   "outputs": [],
   "source": []
  },
  {
   "cell_type": "code",
   "execution_count": null,
   "metadata": {
    "ExecuteTime": {
     "end_time": "2019-04-18T21:12:57.186672Z",
     "start_time": "2019-04-18T21:12:57.168559Z"
    }
   },
   "outputs": [],
   "source": []
  },
  {
   "cell_type": "code",
   "execution_count": null,
   "metadata": {
    "ExecuteTime": {
     "end_time": "2019-04-18T21:10:09.421612Z",
     "start_time": "2019-04-18T21:10:09.405370Z"
    }
   },
   "outputs": [],
   "source": []
  },
  {
   "cell_type": "code",
   "execution_count": null,
   "metadata": {
    "ExecuteTime": {
     "end_time": "2019-04-18T21:10:07.408951Z",
     "start_time": "2019-04-18T21:10:07.397179Z"
    }
   },
   "outputs": [],
   "source": []
  },
  {
   "cell_type": "code",
   "execution_count": null,
   "metadata": {
    "ExecuteTime": {
     "end_time": "2019-04-18T21:10:05.171556Z",
     "start_time": "2019-04-18T21:10:05.157175Z"
    }
   },
   "outputs": [],
   "source": []
  }
 ],
 "metadata": {
  "kernelspec": {
   "display_name": "Python 3",
   "language": "python",
   "name": "python3"
  },
  "language_info": {
   "codemirror_mode": {
    "name": "ipython",
    "version": 3
   },
   "file_extension": ".py",
   "mimetype": "text/x-python",
   "name": "python",
   "nbconvert_exporter": "python",
   "pygments_lexer": "ipython3",
   "version": "3.7.2"
  },
  "latex_envs": {
   "LaTeX_envs_menu_present": true,
   "autoclose": true,
   "autocomplete": true,
   "bibliofile": "biblio.bib",
   "cite_by": "apalike",
   "current_citInitial": 1,
   "eqLabelWithNumbers": true,
   "eqNumInitial": 1,
   "hotkeys": {
    "equation": "Ctrl-E",
    "itemize": "Ctrl-I"
   },
   "labels_anchors": false,
   "latex_user_defs": false,
   "report_style_numbering": false,
   "user_envs_cfg": false
  },
  "toc": {
   "base_numbering": 1,
   "nav_menu": {},
   "number_sections": false,
   "sideBar": true,
   "skip_h1_title": true,
   "title_cell": "Table of Contents",
   "title_sidebar": "Contents",
   "toc_cell": false,
   "toc_position": {},
   "toc_section_display": true,
   "toc_window_display": false
  },
  "varInspector": {
   "cols": {
    "lenName": 16,
    "lenType": 16,
    "lenVar": 40
   },
   "kernels_config": {
    "python": {
     "delete_cmd_postfix": "",
     "delete_cmd_prefix": "del ",
     "library": "var_list.py",
     "varRefreshCmd": "print(var_dic_list())"
    },
    "r": {
     "delete_cmd_postfix": ") ",
     "delete_cmd_prefix": "rm(",
     "library": "var_list.r",
     "varRefreshCmd": "cat(var_dic_list()) "
    }
   },
   "types_to_exclude": [
    "module",
    "function",
    "builtin_function_or_method",
    "instance",
    "_Feature"
   ],
   "window_display": false
  }
 },
 "nbformat": 4,
 "nbformat_minor": 2
}
